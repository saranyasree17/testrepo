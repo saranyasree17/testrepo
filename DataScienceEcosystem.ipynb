{
 "cells": [
  {
   "cell_type": "markdown",
   "id": "4b381802-4461-4747-a0c7-97e82e4ea4d6",
   "metadata": {},
   "source": [
    "# Data Science Tools and Ecosystem"
   ]
  },
  {
   "cell_type": "markdown",
   "id": "a3b5069d-7b7b-4a93-a918-a5b993ce331e",
   "metadata": {},
   "source": [
    "In this notebook, Data Science Tools and Ecosystem are summarized."
   ]
  },
  {
   "cell_type": "markdown",
   "id": "c93f585c-27ba-4ab6-bc6c-1c8cd9fd5f5b",
   "metadata": {},
   "source": [
    "Some of the popular languages that Data Scientists use are:\n",
    "1. Python\n",
    "2. R\n",
    "3. Julia\n",
    "4. Scala\n",
    "5. Matlab\n",
    "6. Java\n",
    "7. JavaScript"
   ]
  },
  {
   "cell_type": "markdown",
   "id": "6a1558cb-6806-4e2c-ba6d-9095028b8fe9",
   "metadata": {},
   "source": [
    "Some of the commonly used libraries used by Data Scientists include:\n",
    "1. scikit learn\n",
    "2. matplotlib\n",
    "3. Pandas\n",
    "4. NumPy\n",
    "5. TensorFlow"
   ]
  },
  {
   "cell_type": "markdown",
   "id": "d09cbcce-58cb-430d-95e2-d7a1ad5f80ac",
   "metadata": {},
   "source": [
    "|Data Science Tools|\n",
    "|-------------------|\n",
    "|RStudio|\n",
    "|Jupyter Notebook|\n",
    "|Apache Spark|\n",
    "|Apache Hadoop|"
   ]
  },
  {
   "cell_type": "markdown",
   "id": "466b9a16-5f33-4546-abc9-e5624e02d6c0",
   "metadata": {},
   "source": [
    "### Below are some examples of evaluating arithmetic expressions in Python"
   ]
  },
  {
   "cell_type": "code",
   "execution_count": 1,
   "id": "dffc081f-9dd4-45a9-bc52-618081aac56e",
   "metadata": {},
   "outputs": [
    {
     "data": {
      "text/plain": [
       "17"
      ]
     },
     "execution_count": 1,
     "metadata": {},
     "output_type": "execute_result"
    }
   ],
   "source": [
    "# This is a simple arithmetic expression to multiply then add integers\n",
    "(3*4)+5"
   ]
  },
  {
   "cell_type": "code",
   "execution_count": 2,
   "id": "31f11feb-a66c-40c3-9604-c1dbead333a9",
   "metadata": {},
   "outputs": [],
   "source": [
    "m=200\n",
    "# This will convert minute to hours by dividing by 60\n",
    "h=m/60"
   ]
  },
  {
   "cell_type": "code",
   "execution_count": 3,
   "id": "e5ef6794-3c7a-40c9-8b57-72dddc31550c",
   "metadata": {},
   "outputs": [
    {
     "data": {
      "text/plain": [
       "3.3333333333333335"
      ]
     },
     "execution_count": 3,
     "metadata": {},
     "output_type": "execute_result"
    }
   ],
   "source": [
    "h"
   ]
  },
  {
   "cell_type": "markdown",
   "id": "8ccd1a1c-e5ea-491c-b274-45999a46534a",
   "metadata": {},
   "source": [
    "**Objectives:**\n",
    "List of Popular languages for Data Science\n",
    "* R\n",
    "* Python\n",
    "* Julia\n",
    "* JavaScript\n",
    "* Scala"
   ]
  },
  {
   "cell_type": "markdown",
   "id": "da59df8f-5e5d-47b1-b13f-1d3c546fc4a6",
   "metadata": {},
   "source": [
    "## Author\n",
    "Saranya"
   ]
  },
  {
   "cell_type": "code",
   "execution_count": null,
   "id": "093331d9-4f09-4232-856e-5f84faa18bcb",
   "metadata": {},
   "outputs": [],
   "source": []
  }
 ],
 "metadata": {
  "kernelspec": {
   "display_name": "Python 3 (ipykernel)",
   "language": "python",
   "name": "python3"
  },
  "language_info": {
   "codemirror_mode": {
    "name": "ipython",
    "version": 3
   },
   "file_extension": ".py",
   "mimetype": "text/x-python",
   "name": "python",
   "nbconvert_exporter": "python",
   "pygments_lexer": "ipython3",
   "version": "3.12.4"
  }
 },
 "nbformat": 4,
 "nbformat_minor": 5
}
